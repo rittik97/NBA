{
 "cells": [
  {
   "cell_type": "code",
   "execution_count": 1,
   "metadata": {},
   "outputs": [],
   "source": [
    "import pandas as pd\n",
    "import sqlite3\n",
    "import numpy as np\n",
    "import matplotlib.pyplot as plt"
   ]
  },
  {
   "cell_type": "code",
   "execution_count": 21,
   "metadata": {},
   "outputs": [],
   "source": [
    "from sklearn.metrics import roc_auc_score, accuracy_score, precision_score, confusion_matrix, f1_score\n",
    "from sklearn.model_selection import train_test_split, GridSearchCV\n",
    "from sklearn.linear_model import LogisticRegression"
   ]
  },
  {
   "cell_type": "code",
   "execution_count": 3,
   "metadata": {},
   "outputs": [],
   "source": [
    "connection = sqlite3.connect('data/nba.db')"
   ]
  },
  {
   "cell_type": "code",
   "execution_count": 6,
   "metadata": {},
   "outputs": [],
   "source": [
    "df=pd.read_sql(\"select * from LAL\", connection)"
   ]
  },
  {
   "cell_type": "code",
   "execution_count": 11,
   "metadata": {},
   "outputs": [
    {
     "data": {
      "text/plain": [
       "Index(['index', 'SEASON_ID', 'TEAM_ID', 'TEAM_ABBREVIATION', 'TEAM_NAME',\n",
       "       'GAME_ID', 'GAME_DATE', 'MATCHUP', 'WL', 'MIN', 'PTS', 'FGM', 'FGA',\n",
       "       'FG_PCT', 'FG3M', 'FG3A', 'FG3_PCT', 'FTM', 'FTA', 'FT_PCT', 'OREB',\n",
       "       'DREB', 'REB', 'AST', 'STL', 'BLK', 'TOV', 'PF', 'PLUS_MINUS',\n",
       "       'opponent', 'target'],\n",
       "      dtype='object')"
      ]
     },
     "execution_count": 11,
     "metadata": {},
     "output_type": "execute_result"
    }
   ],
   "source": [
    "df.columns"
   ]
  },
  {
   "cell_type": "code",
   "execution_count": 10,
   "metadata": {},
   "outputs": [],
   "source": [
    "df['target']=df.WL.apply(lambda x: 1 if x=='W' else 0)"
   ]
  },
  {
   "cell_type": "code",
   "execution_count": 18,
   "metadata": {},
   "outputs": [
    {
     "data": {
      "text/plain": [
       "opponent\n",
       "ATL     71\n",
       "BAR      2\n",
       "BKN     19\n",
       "BOS    105\n",
       "CHA     36\n",
       "CHH     29\n",
       "CHI     77\n",
       "CLE     76\n",
       "DAL    171\n",
       "DEN    194\n",
       "DET     90\n",
       "GOS     79\n",
       "GSW    127\n",
       "HOU    183\n",
       "IND     78\n",
       "KCK     13\n",
       "LAC    174\n",
       "MAC      1\n",
       "MEM     70\n",
       "MIA     73\n",
       "MIL     73\n",
       "MIN    131\n",
       "NJN     59\n",
       "NOH     35\n",
       "NOK      8\n",
       "NOP     27\n",
       "NYK     77\n",
       "OKC     55\n",
       "ORL     68\n",
       "PHI     58\n",
       "PHL     26\n",
       "PHX    214\n",
       "POR    209\n",
       "SAC    183\n",
       "SAN     69\n",
       "SAS    124\n",
       "SDC      6\n",
       "SEA    135\n",
       "TOR     52\n",
       "UTA    131\n",
       "UTH     64\n",
       "VAN     23\n",
       "WAS     72\n",
       "Name: index, dtype: int64"
      ]
     },
     "execution_count": 18,
     "metadata": {},
     "output_type": "execute_result"
    }
   ],
   "source": [
    "#Match count\n",
    "df.groupby('opponent').index.count()"
   ]
  },
  {
   "cell_type": "code",
   "execution_count": 20,
   "metadata": {},
   "outputs": [
    {
     "data": {
      "text/plain": [
       "1    0.597421\n",
       "0    0.402579\n",
       "Name: target, dtype: float64"
      ]
     },
     "execution_count": 20,
     "metadata": {},
     "output_type": "execute_result"
    }
   ],
   "source": [
    "df.target.value_counts()/len(df)"
   ]
  },
  {
   "cell_type": "code",
   "execution_count": 17,
   "metadata": {},
   "outputs": [
    {
     "data": {
      "text/plain": [
       "opponent\n",
       "KCK    1.000000\n",
       "MAC    1.000000\n",
       "VAN    0.956522\n",
       "NOH    0.771429\n",
       "NJN    0.745763\n",
       "PHL    0.730769\n",
       "CHH    0.724138\n",
       "ATL    0.690141\n",
       "MIN    0.671756\n",
       "DAL    0.666667\n",
       "SDC    0.666667\n",
       "SAC    0.650273\n",
       "ORL    0.647059\n",
       "GOS    0.645570\n",
       "LAC    0.632184\n",
       "WAS    0.625000\n",
       "NOK    0.625000\n",
       "GSW    0.622047\n",
       "DEN    0.608247\n",
       "MIL    0.602740\n",
       "SEA    0.600000\n",
       "IND    0.589744\n",
       "CHA    0.583333\n",
       "UTH    0.578125\n",
       "TOR    0.576923\n",
       "PHX    0.574766\n",
       "BOS    0.571429\n",
       "CHI    0.571429\n",
       "PHI    0.568966\n",
       "HOU    0.568306\n",
       "SAN    0.565217\n",
       "MIA    0.561644\n",
       "NYK    0.558442\n",
       "DET    0.555556\n",
       "POR    0.555024\n",
       "BKN    0.526316\n",
       "MEM    0.514286\n",
       "CLE    0.513158\n",
       "BAR    0.500000\n",
       "UTA    0.488550\n",
       "NOP    0.481481\n",
       "SAS    0.467742\n",
       "OKC    0.454545\n",
       "dtype: float64"
      ]
     },
     "execution_count": 17,
     "metadata": {},
     "output_type": "execute_result"
    }
   ],
   "source": [
    "#Win rate by team\n",
    "(df.groupby('opponent').target.sum()/df.groupby('opponent').index.count()).sort_values(ascending=False)"
   ]
  },
  {
   "cell_type": "markdown",
   "metadata": {},
   "source": [
    "### Baseline"
   ]
  },
  {
   "cell_type": "code",
   "execution_count": 22,
   "metadata": {},
   "outputs": [],
   "source": [
    "y=df.target"
   ]
  },
  {
   "cell_type": "code",
   "execution_count": 23,
   "metadata": {},
   "outputs": [],
   "source": [
    "X=df.opponent"
   ]
  },
  {
   "cell_type": "code",
   "execution_count": 24,
   "metadata": {},
   "outputs": [],
   "source": [
    "X=pd.get_dummies(X)"
   ]
  },
  {
   "cell_type": "code",
   "execution_count": 25,
   "metadata": {},
   "outputs": [],
   "source": [
    "X_train, X_test, y_train, y_test = train_test_split(X, y, test_size=0.2, random_state=117)"
   ]
  },
  {
   "cell_type": "code",
   "execution_count": 27,
   "metadata": {},
   "outputs": [],
   "source": [
    "baseline_model=LogisticRegression().fit(X_train,y_train)"
   ]
  },
  {
   "cell_type": "code",
   "execution_count": 29,
   "metadata": {},
   "outputs": [],
   "source": [
    "y_pred=baseline_model.predict(X_test)\n",
    "y_pred_proba = baseline_model.predict_proba(X_test)[::,1]"
   ]
  },
  {
   "cell_type": "code",
   "execution_count": 31,
   "metadata": {},
   "outputs": [
    {
     "name": "stdout",
     "output_type": "stream",
     "text": [
      "Test Accuracy: 0.5952380952380952\n",
      "Train Accuracy: 0.6021731510690501\n"
     ]
    }
   ],
   "source": [
    "print('Test Accuracy: '+str(accuracy_score(y_test, y_pred)))\n",
    "print('Train Accuracy: '+str(accuracy_score(y_train, y_pred=baseline_model.predict(X_train))))"
   ]
  },
  {
   "cell_type": "code",
   "execution_count": 37,
   "metadata": {},
   "outputs": [
    {
     "name": "stdout",
     "output_type": "stream",
     "text": [
      "Test ROC: 0.5167965389451393\n",
      "Train ROC: 0.5862287919832169\n"
     ]
    }
   ],
   "source": [
    "print('Test ROC: '+str(roc_auc_score(y_test, y_pred_proba)))\n",
    "print('Train ROC: '+str(roc_auc_score(y_train, baseline_model.predict_proba(X_train)[::,1])))"
   ]
  },
  {
   "cell_type": "code",
   "execution_count": 35,
   "metadata": {},
   "outputs": [],
   "source": [
    "tn, fp, fn, tp = confusion_matrix(y_test, y_pred).ravel()"
   ]
  },
  {
   "cell_type": "code",
   "execution_count": 36,
   "metadata": {},
   "outputs": [
    {
     "data": {
      "text/plain": [
       "(35, 241, 48, 390)"
      ]
     },
     "execution_count": 36,
     "metadata": {},
     "output_type": "execute_result"
    }
   ],
   "source": [
    "tn, fp, fn, tp"
   ]
  },
  {
   "cell_type": "markdown",
   "metadata": {},
   "source": [
    "### Last N-games"
   ]
  },
  {
   "cell_type": "code",
   "execution_count": 43,
   "metadata": {},
   "outputs": [],
   "source": [
    "df=df.astype({'GAME_DATE':'datetime64'}).sort_values('GAME_DATE')"
   ]
  },
  {
   "cell_type": "code",
   "execution_count": 47,
   "metadata": {},
   "outputs": [
    {
     "data": {
      "text/plain": [
       "index                 True\n",
       "SEASON_ID            False\n",
       "TEAM_ID               True\n",
       "TEAM_ABBREVIATION    False\n",
       "TEAM_NAME            False\n",
       "GAME_ID              False\n",
       "GAME_DATE            False\n",
       "MATCHUP              False\n",
       "WL                   False\n",
       "MIN                   True\n",
       "PTS                   True\n",
       "FGM                   True\n",
       "FGA                   True\n",
       "FG_PCT               False\n",
       "FG3M                  True\n",
       "FG3A                  True\n",
       "FG3_PCT              False\n",
       "FTM                   True\n",
       "FTA                   True\n",
       "FT_PCT               False\n",
       "OREB                  True\n",
       "DREB                  True\n",
       "REB                   True\n",
       "AST                   True\n",
       "STL                   True\n",
       "BLK                   True\n",
       "TOV                   True\n",
       "PF                    True\n",
       "PLUS_MINUS           False\n",
       "opponent             False\n",
       "target                True\n",
       "dtype: bool"
      ]
     },
     "execution_count": 47,
     "metadata": {},
     "output_type": "execute_result"
    }
   ],
   "source": [
    "df.dtypes=='int64'"
   ]
  },
  {
   "cell_type": "code",
   "execution_count": null,
   "metadata": {},
   "outputs": [],
   "source": []
  }
 ],
 "metadata": {
  "kernelspec": {
   "display_name": "Python 3",
   "language": "python",
   "name": "python3"
  },
  "language_info": {
   "codemirror_mode": {
    "name": "ipython",
    "version": 3
   },
   "file_extension": ".py",
   "mimetype": "text/x-python",
   "name": "python",
   "nbconvert_exporter": "python",
   "pygments_lexer": "ipython3",
   "version": "3.7.6"
  }
 },
 "nbformat": 4,
 "nbformat_minor": 4
}
