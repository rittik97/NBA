{
 "cells": [
  {
   "cell_type": "code",
   "execution_count": 1,
   "metadata": {},
   "outputs": [],
   "source": [
    "import pandas as pd\n",
    "import sqlite3\n",
    "import numpy as np\n",
    "import matplotlib.pyplot as plt"
   ]
  },
  {
   "cell_type": "code",
   "execution_count": 21,
   "metadata": {},
   "outputs": [],
   "source": [
    "from sklearn.metrics import roc_auc_score, accuracy_score, precision_score, confusion_matrix, f1_score\n",
    "from sklearn.model_selection import train_test_split, GridSearchCV\n",
    "from sklearn.linear_model import LogisticRegression"
   ]
  },
  {
   "cell_type": "code",
   "execution_count": 125,
   "metadata": {},
   "outputs": [],
   "source": [
    "from interpret import show\n",
    "from interpret.data import ClassHistogram\n",
    "from interpret.glassbox import ExplainableBoostingClassifier, ClassificationTree, DecisionListClassifier\n",
    "from interpret.perf import ROC"
   ]
  },
  {
   "cell_type": "code",
   "execution_count": 3,
   "metadata": {},
   "outputs": [],
   "source": [
    "connection = sqlite3.connect('data/nba.db')"
   ]
  },
  {
   "cell_type": "code",
   "execution_count": 109,
   "metadata": {},
   "outputs": [],
   "source": [
    "df=pd.read_sql(\"select * from LAL\", connection)"
   ]
  },
  {
   "cell_type": "code",
   "execution_count": 110,
   "metadata": {},
   "outputs": [
    {
     "data": {
      "text/plain": [
       "Index(['index', 'SEASON_ID', 'TEAM_ID', 'TEAM_ABBREVIATION', 'TEAM_NAME',\n",
       "       'GAME_ID', 'GAME_DATE', 'MATCHUP', 'WL', 'MIN', 'PTS', 'FGM', 'FGA',\n",
       "       'FG_PCT', 'FG3M', 'FG3A', 'FG3_PCT', 'FTM', 'FTA', 'FT_PCT', 'OREB',\n",
       "       'DREB', 'REB', 'AST', 'STL', 'BLK', 'TOV', 'PF', 'PLUS_MINUS',\n",
       "       'opponent'],\n",
       "      dtype='object')"
      ]
     },
     "execution_count": 110,
     "metadata": {},
     "output_type": "execute_result"
    }
   ],
   "source": [
    "df.columns"
   ]
  },
  {
   "cell_type": "code",
   "execution_count": 111,
   "metadata": {},
   "outputs": [],
   "source": [
    "df['target']=df.WL.apply(lambda x: 1 if x=='W' else 0)"
   ]
  },
  {
   "cell_type": "code",
   "execution_count": 18,
   "metadata": {},
   "outputs": [
    {
     "data": {
      "text/plain": [
       "opponent\n",
       "ATL     71\n",
       "BAR      2\n",
       "BKN     19\n",
       "BOS    105\n",
       "CHA     36\n",
       "CHH     29\n",
       "CHI     77\n",
       "CLE     76\n",
       "DAL    171\n",
       "DEN    194\n",
       "DET     90\n",
       "GOS     79\n",
       "GSW    127\n",
       "HOU    183\n",
       "IND     78\n",
       "KCK     13\n",
       "LAC    174\n",
       "MAC      1\n",
       "MEM     70\n",
       "MIA     73\n",
       "MIL     73\n",
       "MIN    131\n",
       "NJN     59\n",
       "NOH     35\n",
       "NOK      8\n",
       "NOP     27\n",
       "NYK     77\n",
       "OKC     55\n",
       "ORL     68\n",
       "PHI     58\n",
       "PHL     26\n",
       "PHX    214\n",
       "POR    209\n",
       "SAC    183\n",
       "SAN     69\n",
       "SAS    124\n",
       "SDC      6\n",
       "SEA    135\n",
       "TOR     52\n",
       "UTA    131\n",
       "UTH     64\n",
       "VAN     23\n",
       "WAS     72\n",
       "Name: index, dtype: int64"
      ]
     },
     "execution_count": 18,
     "metadata": {},
     "output_type": "execute_result"
    }
   ],
   "source": [
    "#Match count\n",
    "df.groupby('opponent').index.count()"
   ]
  },
  {
   "cell_type": "code",
   "execution_count": 20,
   "metadata": {},
   "outputs": [
    {
     "data": {
      "text/plain": [
       "1    0.597421\n",
       "0    0.402579\n",
       "Name: target, dtype: float64"
      ]
     },
     "execution_count": 20,
     "metadata": {},
     "output_type": "execute_result"
    }
   ],
   "source": [
    "df.target.value_counts()/len(df)"
   ]
  },
  {
   "cell_type": "code",
   "execution_count": 17,
   "metadata": {},
   "outputs": [
    {
     "data": {
      "text/plain": [
       "opponent\n",
       "KCK    1.000000\n",
       "MAC    1.000000\n",
       "VAN    0.956522\n",
       "NOH    0.771429\n",
       "NJN    0.745763\n",
       "PHL    0.730769\n",
       "CHH    0.724138\n",
       "ATL    0.690141\n",
       "MIN    0.671756\n",
       "DAL    0.666667\n",
       "SDC    0.666667\n",
       "SAC    0.650273\n",
       "ORL    0.647059\n",
       "GOS    0.645570\n",
       "LAC    0.632184\n",
       "WAS    0.625000\n",
       "NOK    0.625000\n",
       "GSW    0.622047\n",
       "DEN    0.608247\n",
       "MIL    0.602740\n",
       "SEA    0.600000\n",
       "IND    0.589744\n",
       "CHA    0.583333\n",
       "UTH    0.578125\n",
       "TOR    0.576923\n",
       "PHX    0.574766\n",
       "BOS    0.571429\n",
       "CHI    0.571429\n",
       "PHI    0.568966\n",
       "HOU    0.568306\n",
       "SAN    0.565217\n",
       "MIA    0.561644\n",
       "NYK    0.558442\n",
       "DET    0.555556\n",
       "POR    0.555024\n",
       "BKN    0.526316\n",
       "MEM    0.514286\n",
       "CLE    0.513158\n",
       "BAR    0.500000\n",
       "UTA    0.488550\n",
       "NOP    0.481481\n",
       "SAS    0.467742\n",
       "OKC    0.454545\n",
       "dtype: float64"
      ]
     },
     "execution_count": 17,
     "metadata": {},
     "output_type": "execute_result"
    }
   ],
   "source": [
    "#Win rate by team\n",
    "(df.groupby('opponent').target.sum()/df.groupby('opponent').index.count()).sort_values(ascending=False)"
   ]
  },
  {
   "cell_type": "markdown",
   "metadata": {},
   "source": [
    "### Baseline"
   ]
  },
  {
   "cell_type": "code",
   "execution_count": 22,
   "metadata": {},
   "outputs": [],
   "source": [
    "y=df.target"
   ]
  },
  {
   "cell_type": "code",
   "execution_count": 23,
   "metadata": {},
   "outputs": [],
   "source": [
    "X=df.opponent"
   ]
  },
  {
   "cell_type": "code",
   "execution_count": 24,
   "metadata": {},
   "outputs": [],
   "source": [
    "X=pd.get_dummies(X)"
   ]
  },
  {
   "cell_type": "code",
   "execution_count": 25,
   "metadata": {},
   "outputs": [],
   "source": [
    "X_train, X_test, y_train, y_test = train_test_split(X, y, test_size=0.2, random_state=117)"
   ]
  },
  {
   "cell_type": "code",
   "execution_count": 27,
   "metadata": {},
   "outputs": [],
   "source": [
    "baseline_model=LogisticRegression().fit(X_train,y_train)"
   ]
  },
  {
   "cell_type": "code",
   "execution_count": 29,
   "metadata": {},
   "outputs": [],
   "source": [
    "y_pred=baseline_model.predict(X_test)\n",
    "y_pred_proba = baseline_model.predict_proba(X_test)[::,1]"
   ]
  },
  {
   "cell_type": "code",
   "execution_count": 31,
   "metadata": {},
   "outputs": [
    {
     "name": "stdout",
     "output_type": "stream",
     "text": [
      "Test Accuracy: 0.5952380952380952\n",
      "Train Accuracy: 0.6021731510690501\n"
     ]
    }
   ],
   "source": [
    "print('Test Accuracy: '+str(accuracy_score(y_test, y_pred)))\n",
    "print('Train Accuracy: '+str(accuracy_score(y_train, y_pred=baseline_model.predict(X_train))))"
   ]
  },
  {
   "cell_type": "code",
   "execution_count": 37,
   "metadata": {},
   "outputs": [
    {
     "name": "stdout",
     "output_type": "stream",
     "text": [
      "Test ROC: 0.5167965389451393\n",
      "Train ROC: 0.5862287919832169\n"
     ]
    }
   ],
   "source": [
    "print('Test ROC: '+str(roc_auc_score(y_test, y_pred_proba)))\n",
    "print('Train ROC: '+str(roc_auc_score(y_train, baseline_model.predict_proba(X_train)[::,1])))"
   ]
  },
  {
   "cell_type": "code",
   "execution_count": 35,
   "metadata": {},
   "outputs": [],
   "source": [
    "tn, fp, fn, tp = confusion_matrix(y_test, y_pred).ravel()"
   ]
  },
  {
   "cell_type": "code",
   "execution_count": 36,
   "metadata": {},
   "outputs": [
    {
     "data": {
      "text/plain": [
       "(35, 241, 48, 390)"
      ]
     },
     "execution_count": 36,
     "metadata": {},
     "output_type": "execute_result"
    }
   ],
   "source": [
    "tn, fp, fn, tp"
   ]
  },
  {
   "cell_type": "markdown",
   "metadata": {},
   "source": [
    "### Last N-games"
   ]
  },
  {
   "cell_type": "code",
   "execution_count": 112,
   "metadata": {},
   "outputs": [],
   "source": [
    "df=df.astype({'GAME_DATE':'datetime64'}).sort_values('GAME_DATE')"
   ]
  },
  {
   "cell_type": "code",
   "execution_count": 113,
   "metadata": {},
   "outputs": [
    {
     "data": {
      "text/plain": [
       "Index(['index', 'SEASON_ID', 'TEAM_ID', 'TEAM_ABBREVIATION', 'TEAM_NAME',\n",
       "       'GAME_ID', 'GAME_DATE', 'MATCHUP', 'WL', 'MIN', 'PTS', 'FGM', 'FGA',\n",
       "       'FG_PCT', 'FG3M', 'FG3A', 'FG3_PCT', 'FTM', 'FTA', 'FT_PCT', 'OREB',\n",
       "       'DREB', 'REB', 'AST', 'STL', 'BLK', 'TOV', 'PF', 'PLUS_MINUS',\n",
       "       'opponent', 'target'],\n",
       "      dtype='object')"
      ]
     },
     "execution_count": 113,
     "metadata": {},
     "output_type": "execute_result"
    }
   ],
   "source": [
    "df.columns"
   ]
  },
  {
   "cell_type": "code",
   "execution_count": 114,
   "metadata": {},
   "outputs": [],
   "source": [
    "numerical_features=['MIN', 'PTS', 'FGM', 'FGA',\n",
    "       'FG_PCT', 'FG3M', 'FG3A', 'FG3_PCT', 'FTM', 'FTA', 'FT_PCT', 'OREB',\n",
    "       'DREB', 'REB', 'AST', 'STL', 'BLK', 'TOV', 'PF', 'PLUS_MINUS']"
   ]
  },
  {
   "cell_type": "code",
   "execution_count": 115,
   "metadata": {},
   "outputs": [],
   "source": [
    "final_df=df.copy(deep=True)"
   ]
  },
  {
   "cell_type": "code",
   "execution_count": 116,
   "metadata": {},
   "outputs": [],
   "source": [
    "for f in numerical_features:\n",
    "    final_df[f]=df[f].rolling(window=10).mean()"
   ]
  },
  {
   "cell_type": "code",
   "execution_count": 117,
   "metadata": {},
   "outputs": [],
   "source": [
    "final_df.dropna(inplace=True)"
   ]
  },
  {
   "cell_type": "code",
   "execution_count": 118,
   "metadata": {},
   "outputs": [
    {
     "data": {
      "text/html": [
       "<div>\n",
       "<style scoped>\n",
       "    .dataframe tbody tr th:only-of-type {\n",
       "        vertical-align: middle;\n",
       "    }\n",
       "\n",
       "    .dataframe tbody tr th {\n",
       "        vertical-align: top;\n",
       "    }\n",
       "\n",
       "    .dataframe thead th {\n",
       "        text-align: right;\n",
       "    }\n",
       "</style>\n",
       "<table border=\"1\" class=\"dataframe\">\n",
       "  <thead>\n",
       "    <tr style=\"text-align: right;\">\n",
       "      <th></th>\n",
       "      <th>index</th>\n",
       "      <th>SEASON_ID</th>\n",
       "      <th>TEAM_ID</th>\n",
       "      <th>TEAM_ABBREVIATION</th>\n",
       "      <th>TEAM_NAME</th>\n",
       "      <th>GAME_ID</th>\n",
       "      <th>GAME_DATE</th>\n",
       "      <th>MATCHUP</th>\n",
       "      <th>WL</th>\n",
       "      <th>MIN</th>\n",
       "      <th>...</th>\n",
       "      <th>DREB</th>\n",
       "      <th>REB</th>\n",
       "      <th>AST</th>\n",
       "      <th>STL</th>\n",
       "      <th>BLK</th>\n",
       "      <th>TOV</th>\n",
       "      <th>PF</th>\n",
       "      <th>PLUS_MINUS</th>\n",
       "      <th>opponent</th>\n",
       "      <th>target</th>\n",
       "    </tr>\n",
       "  </thead>\n",
       "  <tbody>\n",
       "    <tr>\n",
       "      <th>2329</th>\n",
       "      <td>2329</td>\n",
       "      <td>21996</td>\n",
       "      <td>1610612747</td>\n",
       "      <td>LAL</td>\n",
       "      <td>Los Angeles Lakers</td>\n",
       "      <td>0029600126</td>\n",
       "      <td>1996-11-17</td>\n",
       "      <td>LAL @ PHX</td>\n",
       "      <td>W</td>\n",
       "      <td>245.3</td>\n",
       "      <td>...</td>\n",
       "      <td>30.9</td>\n",
       "      <td>42.7</td>\n",
       "      <td>22.5</td>\n",
       "      <td>6.9</td>\n",
       "      <td>6.5</td>\n",
       "      <td>18.3</td>\n",
       "      <td>21.7</td>\n",
       "      <td>4.20</td>\n",
       "      <td>PHX</td>\n",
       "      <td>1</td>\n",
       "    </tr>\n",
       "    <tr>\n",
       "      <th>2328</th>\n",
       "      <td>2328</td>\n",
       "      <td>21996</td>\n",
       "      <td>1610612747</td>\n",
       "      <td>LAL</td>\n",
       "      <td>Los Angeles Lakers</td>\n",
       "      <td>0029600136</td>\n",
       "      <td>1996-11-19</td>\n",
       "      <td>LAL @ GSW</td>\n",
       "      <td>W</td>\n",
       "      <td>245.1</td>\n",
       "      <td>...</td>\n",
       "      <td>29.6</td>\n",
       "      <td>41.2</td>\n",
       "      <td>23.3</td>\n",
       "      <td>7.2</td>\n",
       "      <td>6.3</td>\n",
       "      <td>17.3</td>\n",
       "      <td>21.3</td>\n",
       "      <td>3.10</td>\n",
       "      <td>GSW</td>\n",
       "      <td>1</td>\n",
       "    </tr>\n",
       "    <tr>\n",
       "      <th>2327</th>\n",
       "      <td>2327</td>\n",
       "      <td>21996</td>\n",
       "      <td>1610612747</td>\n",
       "      <td>LAL</td>\n",
       "      <td>Los Angeles Lakers</td>\n",
       "      <td>0029600144</td>\n",
       "      <td>1996-11-20</td>\n",
       "      <td>LAL vs. UTA</td>\n",
       "      <td>L</td>\n",
       "      <td>245.3</td>\n",
       "      <td>...</td>\n",
       "      <td>28.6</td>\n",
       "      <td>40.4</td>\n",
       "      <td>23.1</td>\n",
       "      <td>7.0</td>\n",
       "      <td>6.2</td>\n",
       "      <td>16.7</td>\n",
       "      <td>21.8</td>\n",
       "      <td>0.90</td>\n",
       "      <td>UTA</td>\n",
       "      <td>0</td>\n",
       "    </tr>\n",
       "    <tr>\n",
       "      <th>2326</th>\n",
       "      <td>2326</td>\n",
       "      <td>21996</td>\n",
       "      <td>1610612747</td>\n",
       "      <td>LAL</td>\n",
       "      <td>Los Angeles Lakers</td>\n",
       "      <td>0029600157</td>\n",
       "      <td>1996-11-22</td>\n",
       "      <td>LAL vs. SAS</td>\n",
       "      <td>W</td>\n",
       "      <td>245.1</td>\n",
       "      <td>...</td>\n",
       "      <td>28.1</td>\n",
       "      <td>40.2</td>\n",
       "      <td>23.3</td>\n",
       "      <td>7.7</td>\n",
       "      <td>5.8</td>\n",
       "      <td>16.8</td>\n",
       "      <td>21.6</td>\n",
       "      <td>1.30</td>\n",
       "      <td>SAS</td>\n",
       "      <td>1</td>\n",
       "    </tr>\n",
       "    <tr>\n",
       "      <th>2325</th>\n",
       "      <td>2325</td>\n",
       "      <td>21996</td>\n",
       "      <td>1610612747</td>\n",
       "      <td>LAL</td>\n",
       "      <td>Los Angeles Lakers</td>\n",
       "      <td>0029600173</td>\n",
       "      <td>1996-11-24</td>\n",
       "      <td>LAL vs. HOU</td>\n",
       "      <td>L</td>\n",
       "      <td>244.9</td>\n",
       "      <td>...</td>\n",
       "      <td>27.5</td>\n",
       "      <td>39.8</td>\n",
       "      <td>23.1</td>\n",
       "      <td>8.4</td>\n",
       "      <td>5.3</td>\n",
       "      <td>16.5</td>\n",
       "      <td>22.0</td>\n",
       "      <td>1.80</td>\n",
       "      <td>HOU</td>\n",
       "      <td>0</td>\n",
       "    </tr>\n",
       "    <tr>\n",
       "      <th>...</th>\n",
       "      <td>...</td>\n",
       "      <td>...</td>\n",
       "      <td>...</td>\n",
       "      <td>...</td>\n",
       "      <td>...</td>\n",
       "      <td>...</td>\n",
       "      <td>...</td>\n",
       "      <td>...</td>\n",
       "      <td>...</td>\n",
       "      <td>...</td>\n",
       "      <td>...</td>\n",
       "      <td>...</td>\n",
       "      <td>...</td>\n",
       "      <td>...</td>\n",
       "      <td>...</td>\n",
       "      <td>...</td>\n",
       "      <td>...</td>\n",
       "      <td>...</td>\n",
       "      <td>...</td>\n",
       "      <td>...</td>\n",
       "      <td>...</td>\n",
       "    </tr>\n",
       "    <tr>\n",
       "      <th>4</th>\n",
       "      <td>4</td>\n",
       "      <td>42019</td>\n",
       "      <td>1610612747</td>\n",
       "      <td>LAL</td>\n",
       "      <td>Los Angeles Lakers</td>\n",
       "      <td>0041900402</td>\n",
       "      <td>2020-10-02</td>\n",
       "      <td>LAL vs. MIA</td>\n",
       "      <td>W</td>\n",
       "      <td>240.2</td>\n",
       "      <td>...</td>\n",
       "      <td>33.4</td>\n",
       "      <td>43.0</td>\n",
       "      <td>26.8</td>\n",
       "      <td>7.8</td>\n",
       "      <td>5.4</td>\n",
       "      <td>14.1</td>\n",
       "      <td>24.6</td>\n",
       "      <td>9.40</td>\n",
       "      <td>MIA</td>\n",
       "      <td>1</td>\n",
       "    </tr>\n",
       "    <tr>\n",
       "      <th>3</th>\n",
       "      <td>3</td>\n",
       "      <td>42019</td>\n",
       "      <td>1610612747</td>\n",
       "      <td>LAL</td>\n",
       "      <td>Los Angeles Lakers</td>\n",
       "      <td>0041900403</td>\n",
       "      <td>2020-10-04</td>\n",
       "      <td>LAL @ MIA</td>\n",
       "      <td>L</td>\n",
       "      <td>240.1</td>\n",
       "      <td>...</td>\n",
       "      <td>33.2</td>\n",
       "      <td>43.0</td>\n",
       "      <td>26.6</td>\n",
       "      <td>8.0</td>\n",
       "      <td>5.0</td>\n",
       "      <td>14.7</td>\n",
       "      <td>25.3</td>\n",
       "      <td>7.30</td>\n",
       "      <td>MIA</td>\n",
       "      <td>0</td>\n",
       "    </tr>\n",
       "    <tr>\n",
       "      <th>2</th>\n",
       "      <td>2</td>\n",
       "      <td>42019</td>\n",
       "      <td>1610612747</td>\n",
       "      <td>LAL</td>\n",
       "      <td>Los Angeles Lakers</td>\n",
       "      <td>0041900404</td>\n",
       "      <td>2020-10-06</td>\n",
       "      <td>LAL @ MIA</td>\n",
       "      <td>W</td>\n",
       "      <td>240.1</td>\n",
       "      <td>...</td>\n",
       "      <td>32.4</td>\n",
       "      <td>42.0</td>\n",
       "      <td>26.1</td>\n",
       "      <td>7.6</td>\n",
       "      <td>5.0</td>\n",
       "      <td>14.6</td>\n",
       "      <td>24.0</td>\n",
       "      <td>6.90</td>\n",
       "      <td>MIA</td>\n",
       "      <td>1</td>\n",
       "    </tr>\n",
       "    <tr>\n",
       "      <th>1</th>\n",
       "      <td>1</td>\n",
       "      <td>42019</td>\n",
       "      <td>1610612747</td>\n",
       "      <td>LAL</td>\n",
       "      <td>Los Angeles Lakers</td>\n",
       "      <td>0041900405</td>\n",
       "      <td>2020-10-09</td>\n",
       "      <td>LAL vs. MIA</td>\n",
       "      <td>L</td>\n",
       "      <td>239.9</td>\n",
       "      <td>...</td>\n",
       "      <td>30.9</td>\n",
       "      <td>41.1</td>\n",
       "      <td>25.7</td>\n",
       "      <td>8.1</td>\n",
       "      <td>4.8</td>\n",
       "      <td>14.2</td>\n",
       "      <td>23.7</td>\n",
       "      <td>4.26</td>\n",
       "      <td>MIA</td>\n",
       "      <td>0</td>\n",
       "    </tr>\n",
       "    <tr>\n",
       "      <th>0</th>\n",
       "      <td>0</td>\n",
       "      <td>42019</td>\n",
       "      <td>1610612747</td>\n",
       "      <td>LAL</td>\n",
       "      <td>Los Angeles Lakers</td>\n",
       "      <td>0041900406</td>\n",
       "      <td>2020-10-11</td>\n",
       "      <td>LAL @ MIA</td>\n",
       "      <td>W</td>\n",
       "      <td>239.9</td>\n",
       "      <td>...</td>\n",
       "      <td>31.9</td>\n",
       "      <td>42.3</td>\n",
       "      <td>24.7</td>\n",
       "      <td>7.6</td>\n",
       "      <td>4.6</td>\n",
       "      <td>14.3</td>\n",
       "      <td>23.1</td>\n",
       "      <td>4.96</td>\n",
       "      <td>MIA</td>\n",
       "      <td>1</td>\n",
       "    </tr>\n",
       "  </tbody>\n",
       "</table>\n",
       "<p>2272 rows × 31 columns</p>\n",
       "</div>"
      ],
      "text/plain": [
       "      index SEASON_ID     TEAM_ID TEAM_ABBREVIATION           TEAM_NAME  \\\n",
       "2329   2329     21996  1610612747               LAL  Los Angeles Lakers   \n",
       "2328   2328     21996  1610612747               LAL  Los Angeles Lakers   \n",
       "2327   2327     21996  1610612747               LAL  Los Angeles Lakers   \n",
       "2326   2326     21996  1610612747               LAL  Los Angeles Lakers   \n",
       "2325   2325     21996  1610612747               LAL  Los Angeles Lakers   \n",
       "...     ...       ...         ...               ...                 ...   \n",
       "4         4     42019  1610612747               LAL  Los Angeles Lakers   \n",
       "3         3     42019  1610612747               LAL  Los Angeles Lakers   \n",
       "2         2     42019  1610612747               LAL  Los Angeles Lakers   \n",
       "1         1     42019  1610612747               LAL  Los Angeles Lakers   \n",
       "0         0     42019  1610612747               LAL  Los Angeles Lakers   \n",
       "\n",
       "         GAME_ID  GAME_DATE      MATCHUP WL    MIN  ...  DREB   REB   AST  \\\n",
       "2329  0029600126 1996-11-17    LAL @ PHX  W  245.3  ...  30.9  42.7  22.5   \n",
       "2328  0029600136 1996-11-19    LAL @ GSW  W  245.1  ...  29.6  41.2  23.3   \n",
       "2327  0029600144 1996-11-20  LAL vs. UTA  L  245.3  ...  28.6  40.4  23.1   \n",
       "2326  0029600157 1996-11-22  LAL vs. SAS  W  245.1  ...  28.1  40.2  23.3   \n",
       "2325  0029600173 1996-11-24  LAL vs. HOU  L  244.9  ...  27.5  39.8  23.1   \n",
       "...          ...        ...          ... ..    ...  ...   ...   ...   ...   \n",
       "4     0041900402 2020-10-02  LAL vs. MIA  W  240.2  ...  33.4  43.0  26.8   \n",
       "3     0041900403 2020-10-04    LAL @ MIA  L  240.1  ...  33.2  43.0  26.6   \n",
       "2     0041900404 2020-10-06    LAL @ MIA  W  240.1  ...  32.4  42.0  26.1   \n",
       "1     0041900405 2020-10-09  LAL vs. MIA  L  239.9  ...  30.9  41.1  25.7   \n",
       "0     0041900406 2020-10-11    LAL @ MIA  W  239.9  ...  31.9  42.3  24.7   \n",
       "\n",
       "      STL  BLK   TOV    PF  PLUS_MINUS  opponent  target  \n",
       "2329  6.9  6.5  18.3  21.7        4.20       PHX       1  \n",
       "2328  7.2  6.3  17.3  21.3        3.10       GSW       1  \n",
       "2327  7.0  6.2  16.7  21.8        0.90       UTA       0  \n",
       "2326  7.7  5.8  16.8  21.6        1.30       SAS       1  \n",
       "2325  8.4  5.3  16.5  22.0        1.80       HOU       0  \n",
       "...   ...  ...   ...   ...         ...       ...     ...  \n",
       "4     7.8  5.4  14.1  24.6        9.40       MIA       1  \n",
       "3     8.0  5.0  14.7  25.3        7.30       MIA       0  \n",
       "2     7.6  5.0  14.6  24.0        6.90       MIA       1  \n",
       "1     8.1  4.8  14.2  23.7        4.26       MIA       0  \n",
       "0     7.6  4.6  14.3  23.1        4.96       MIA       1  \n",
       "\n",
       "[2272 rows x 31 columns]"
      ]
     },
     "execution_count": 118,
     "metadata": {},
     "output_type": "execute_result"
    }
   ],
   "source": [
    "final_df"
   ]
  },
  {
   "cell_type": "code",
   "execution_count": 119,
   "metadata": {},
   "outputs": [
    {
     "data": {
      "text/plain": [
       "Index(['ATL', 'BAR', 'BKN', 'BOS', 'CHA', 'CHH', 'CHI', 'CLE', 'DAL', 'DEN',\n",
       "       'DET', 'GSW', 'HOU', 'IND', 'LAC', 'MAC', 'MEM', 'MIA', 'MIL', 'MIN',\n",
       "       'NJN', 'NOH', 'NOK', 'NOP', 'NYK', 'OKC', 'ORL', 'PHI', 'PHX', 'POR',\n",
       "       'SAC', 'SAS', 'SEA', 'TOR', 'UTA', 'VAN', 'WAS'],\n",
       "      dtype='object')"
      ]
     },
     "execution_count": 119,
     "metadata": {},
     "output_type": "execute_result"
    }
   ],
   "source": [
    "pd.get_dummies(final_df.opponent).columns"
   ]
  },
  {
   "cell_type": "code",
   "execution_count": 120,
   "metadata": {},
   "outputs": [],
   "source": [
    "X=final_df[numerical_features].merge(pd.get_dummies(final_df.opponent), how='left', left_index=True,right_index=True)"
   ]
  },
  {
   "cell_type": "code",
   "execution_count": 121,
   "metadata": {},
   "outputs": [],
   "source": [
    "X=X.rename(columns={'MIN_x':'minutes','MIN_y':'MIN'})"
   ]
  },
  {
   "cell_type": "code",
   "execution_count": 145,
   "metadata": {},
   "outputs": [],
   "source": [
    "X=X.shift(1).dropna()#.merge(df.target, how='left', left_index=True, right_index=True).dropna()"
   ]
  },
  {
   "cell_type": "code",
   "execution_count": 146,
   "metadata": {},
   "outputs": [],
   "source": [
    "y=final_df.target[1:]"
   ]
  },
  {
   "cell_type": "code",
   "execution_count": 147,
   "metadata": {},
   "outputs": [],
   "source": [
    "X_train, X_test, y_train, y_test = train_test_split(X, y, test_size=0.2, random_state=117)"
   ]
  },
  {
   "cell_type": "markdown",
   "metadata": {},
   "source": [
    "### EBM"
   ]
  },
  {
   "cell_type": "code",
   "execution_count": 151,
   "metadata": {},
   "outputs": [
    {
     "data": {
      "text/html": [
       "<!-- http://127.0.0.1:7463/112168861904/ -->\n",
       "<iframe src=\"http://127.0.0.1:7463/112168861904/\" width=100% height=800 frameBorder=\"0\"></iframe>"
      ]
     },
     "metadata": {},
     "output_type": "display_data"
    }
   ],
   "source": [
    "hist = ClassHistogram().explain_data(X_train, y_train, name = 'Train Data')\n",
    "show(hist)"
   ]
  },
  {
   "cell_type": "code",
   "execution_count": 154,
   "metadata": {},
   "outputs": [
    {
     "data": {
      "text/plain": [
       "ExplainableBoostingClassifier(binning='uniform', early_stopping_rounds=150,\n",
       "                              feature_names=['minutes', 'PTS', 'FGM', 'FGA',\n",
       "                                             'FG_PCT', 'FG3M', 'FG3A',\n",
       "                                             'FG3_PCT', 'FTM', 'FTA', 'FT_PCT',\n",
       "                                             'OREB', 'DREB', 'REB', 'AST',\n",
       "                                             'STL', 'BLK', 'TOV', 'PF',\n",
       "                                             'PLUS_MINUS', 'ATL', 'BAR', 'BKN',\n",
       "                                             'BOS', 'CHA', 'CHH', 'CHI', 'CLE',\n",
       "                                             'DAL', 'DEN', ...],\n",
       "                              feature_types=['continuous', 'continuous',\n",
       "                                             'continuous...\n",
       "                                             'continuous', 'continuous',\n",
       "                                             'continuous', 'continuous',\n",
       "                                             'continuous', 'continuous',\n",
       "                                             'continuous', 'continuous',\n",
       "                                             'continuous', 'continuous',\n",
       "                                             'continuous', 'continuous',\n",
       "                                             'categorical', 'categorical',\n",
       "                                             'categorical', 'categorical',\n",
       "                                             'categorical', 'categorical',\n",
       "                                             'categorical', 'categorical',\n",
       "                                             'categorical', 'categorical', ...],\n",
       "                              learning_rate=0.1, max_bins=100, random_state=117,\n",
       "                              validation_size=0.1)"
      ]
     },
     "execution_count": 154,
     "metadata": {},
     "output_type": "execute_result"
    }
   ],
   "source": [
    "ebm = ExplainableBoostingClassifier(feature_names=None,\n",
    "    feature_types=None,\n",
    "    max_bins=100,\n",
    "    max_interaction_bins=32,\n",
    "    binning='uniform',\n",
    "    mains='all',\n",
    "    interactions=0,\n",
    "    outer_bags=16,\n",
    "    inner_bags=0,\n",
    "    learning_rate=0.1,\n",
    "    validation_size=0.1,\n",
    "    early_stopping_rounds=150,\n",
    "    early_stopping_tolerance=0.0001,\n",
    "    max_rounds=5000,\n",
    "    max_leaves=3,\n",
    "    min_samples_leaf=2,\n",
    "    n_jobs=-2,\n",
    "    random_state=117)\n",
    "ebm.fit(X_train, y_train)   "
   ]
  },
  {
   "cell_type": "code",
   "execution_count": 155,
   "metadata": {},
   "outputs": [
    {
     "data": {
      "text/html": [
       "<!-- http://127.0.0.1:7463/112141574736/ -->\n",
       "<iframe src=\"http://127.0.0.1:7463/112141574736/\" width=100% height=800 frameBorder=\"0\"></iframe>"
      ]
     },
     "metadata": {},
     "output_type": "display_data"
    }
   ],
   "source": [
    "ebm_global = ebm.explain_global()\n",
    "show(ebm_global)"
   ]
  },
  {
   "cell_type": "code",
   "execution_count": 156,
   "metadata": {},
   "outputs": [
    {
     "data": {
      "text/html": [
       "<!-- http://127.0.0.1:7463/112171067984/ -->\n",
       "<iframe src=\"http://127.0.0.1:7463/112171067984/\" width=100% height=800 frameBorder=\"0\"></iframe>"
      ]
     },
     "metadata": {},
     "output_type": "display_data"
    }
   ],
   "source": [
    "ebm_perf = ROC(ebm.predict_proba).explain_perf(X_test, y_test, name='EBM')\n",
    "show(ebm_perf)"
   ]
  },
  {
   "cell_type": "code",
   "execution_count": 157,
   "metadata": {},
   "outputs": [],
   "source": [
    "y_pred_ebm=ebm.predict(X_test)\n",
    "y_pred_proba_ebm = ebm.predict_proba(X_test)[::,1]"
   ]
  },
  {
   "cell_type": "code",
   "execution_count": 158,
   "metadata": {},
   "outputs": [
    {
     "name": "stdout",
     "output_type": "stream",
     "text": [
      "Test Accuracy: 0.6263736263736264\n",
      "Train Accuracy: 0.6800660792951542\n"
     ]
    }
   ],
   "source": [
    "print('Test Accuracy: '+str(accuracy_score(y_test, y_pred_ebm)))\n",
    "print('Train Accuracy: '+str(accuracy_score(y_train, y_pred=ebm.predict(X_train))))"
   ]
  },
  {
   "cell_type": "code",
   "execution_count": 159,
   "metadata": {},
   "outputs": [],
   "source": [
    "tn, fp, fn, tp = confusion_matrix(y_test, y_pred_ebm).ravel()"
   ]
  },
  {
   "cell_type": "code",
   "execution_count": 160,
   "metadata": {},
   "outputs": [
    {
     "data": {
      "text/plain": [
       "(66, 142, 28, 219)"
      ]
     },
     "execution_count": 160,
     "metadata": {},
     "output_type": "execute_result"
    }
   ],
   "source": [
    "tn, fp, fn, tp"
   ]
  },
  {
   "cell_type": "code",
   "execution_count": null,
   "metadata": {},
   "outputs": [],
   "source": []
  }
 ],
 "metadata": {
  "kernelspec": {
   "display_name": "Python 3",
   "language": "python",
   "name": "python3"
  },
  "language_info": {
   "codemirror_mode": {
    "name": "ipython",
    "version": 3
   },
   "file_extension": ".py",
   "mimetype": "text/x-python",
   "name": "python",
   "nbconvert_exporter": "python",
   "pygments_lexer": "ipython3",
   "version": "3.7.6"
  }
 },
 "nbformat": 4,
 "nbformat_minor": 4
}
